{
 "cells": [
  {
   "cell_type": "code",
   "execution_count": 2,
   "metadata": {},
   "outputs": [],
   "source": [
    "class Node:\n",
    "    def __init__(self, name, parent = None, children = []):\n",
    "        self.name = name\n",
    "        self.parent = parent\n",
    "        self.children = []\n",
    "        \n",
    "    def __str__(self):\n",
    "        \n",
    "\n",
    "class Baum:\n",
    "    def __init__(self, root):\n",
    "        self.root = root\n",
    "        \n",
    "node_1 = Node(1)\n",
    "node_2 = Node(2, node_1)\n",
    "node_3 = Node(3, node_1)\n",
    "node_4 = Node(4, node_2)\n",
    "node_5 = Node(5, node_2)\n",
    "node_6 = Node(6, node_3)\n",
    "node_7 = Node(7, node_3)"
   ]
  },
  {
   "cell_type": "code",
   "execution_count": null,
   "metadata": {},
   "outputs": [],
   "source": []
  }
 ],
 "metadata": {
  "kernelspec": {
   "display_name": "Python 3",
   "language": "python",
   "name": "python3"
  },
  "language_info": {
   "codemirror_mode": {
    "name": "ipython",
    "version": 3
   },
   "file_extension": ".py",
   "mimetype": "text/x-python",
   "name": "python",
   "nbconvert_exporter": "python",
   "pygments_lexer": "ipython3",
   "version": "3.6.5"
  }
 },
 "nbformat": 4,
 "nbformat_minor": 2
}
